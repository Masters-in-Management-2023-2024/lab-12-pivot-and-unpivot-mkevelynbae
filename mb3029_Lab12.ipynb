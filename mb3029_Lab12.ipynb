{
  "cells": [
    {
      "cell_type": "markdown",
      "metadata": {
        "id": "8XZXSf3girnF"
      },
      "source": [
        "# Lab 12 - Pivoting and unpivoting\n",
        "\n",
        "This lab focuses on data transformation using pivoting and unpivoting operations with the polars library."
      ]
    },
    {
      "cell_type": "markdown",
      "metadata": {
        "id": "RzO99N3nirnG"
      },
      "source": [
        "## Load your packages\n",
        "\n",
        "You will need the `polars` package for this assignment. We'll also use `numpy` for some calculations."
      ]
    },
    {
      "cell_type": "code",
      "execution_count": null,
      "metadata": {
        "id": "hO9TId5firnH",
        "colab": {
          "base_uri": "https://localhost:8080/",
          "height": 949
        },
        "outputId": "aaeec375-74a5-4fdb-810d-a506e9b540af"
      },
      "outputs": [
        {
          "output_type": "execute_result",
          "data": {
            "text/plain": [
              "shape: (28_298, 25)\n",
              "┌───────────┬───────────┬───────────┬───────────┬───┬───────────┬───────────┬───────────┬──────────┐\n",
              "│ Airport:  ┆ Airport:  ┆ Origin    ┆ Origin    ┆ … ┆ Wildlife: ┆ Wildlife: ┆ Number of ┆ Record   │\n",
              "│ Code      ┆ Name      ┆ State     ┆ State     ┆   ┆ Species   ┆ Species   ┆ Strikes   ┆ ID       │\n",
              "│ ---       ┆ ---       ┆ ---       ┆ Code      ┆   ┆ ---       ┆ ID        ┆ ---       ┆ ---      │\n",
              "│ str       ┆ str       ┆ str       ┆ ---       ┆   ┆ str       ┆ ---       ┆ i64       ┆ i64      │\n",
              "│           ┆           ┆           ┆ str       ┆   ┆           ┆ str       ┆           ┆          │\n",
              "╞═══════════╪═══════════╪═══════════╪═══════════╪═══╪═══════════╪═══════════╪═══════════╪══════════╡\n",
              "│ KAAF      ┆ APALACHIC ┆ Florida   ┆ FL        ┆ … ┆ Domestic  ┆ 1F12      ┆ 1         ┆ 17459    │\n",
              "│           ┆ OLA       ┆           ┆           ┆   ┆ dog       ┆           ┆           ┆          │\n",
              "│           ┆ REGIONAL  ┆           ┆           ┆   ┆           ┆           ┆           ┆          │\n",
              "│           ┆ ARPT      ┆           ┆           ┆   ┆           ┆           ┆           ┆          │\n",
              "│ KAAF      ┆ APALACHIC ┆ Florida   ┆ FL        ┆ … ┆ Herons,   ┆ I1        ┆ 1         ┆ 17114    │\n",
              "│           ┆ OLA       ┆           ┆           ┆   ┆ egrets,   ┆           ┆           ┆          │\n",
              "│           ┆ REGIONAL  ┆           ┆           ┆   ┆ bitterns  ┆           ┆           ┆          │\n",
              "│           ┆ ARPT      ┆           ┆           ┆   ┆           ┆           ┆           ┆          │\n",
              "│ KABE      ┆ LEHIGH    ┆ Pennsylva ┆ PA        ┆ … ┆ American  ┆ K5114     ┆ 1         ┆ 259361   │\n",
              "│           ┆ VALLEY    ┆ nia       ┆           ┆   ┆ kestrel   ┆           ┆           ┆          │\n",
              "│           ┆ INTL      ┆           ┆           ┆   ┆           ┆           ┆           ┆          │\n",
              "│ KABE      ┆ LEHIGH    ┆ Pennsylva ┆ PA        ┆ … ┆ Mourning  ┆ O2205     ┆ 1         ┆ 345167   │\n",
              "│           ┆ VALLEY    ┆ nia       ┆           ┆   ┆ dove      ┆           ┆           ┆          │\n",
              "│           ┆ INTL      ┆           ┆           ┆   ┆           ┆           ┆           ┆          │\n",
              "│ KABE      ┆ LEHIGH    ┆ Pennsylva ┆ PA        ┆ … ┆ Red-taile ┆ K3302     ┆ 1         ┆ 262782   │\n",
              "│           ┆ VALLEY    ┆ nia       ┆           ┆   ┆ d hawk    ┆           ┆           ┆          │\n",
              "│           ┆ INTL      ┆           ┆           ┆   ┆           ┆           ┆           ┆          │\n",
              "│ …         ┆ …         ┆ …         ┆ …         ┆ … ┆ …         ┆ …         ┆ …         ┆ …        │\n",
              "│ KYNG      ┆ YOUNGSTOW ┆ Ohio      ┆ OH        ┆ … ┆ Rusty     ┆ ZT106     ┆ 1         ┆ 15818    │\n",
              "│           ┆ N-WARREN  ┆           ┆           ┆   ┆ blackbird ┆           ┆           ┆          │\n",
              "│           ┆ RGNL ARPT ┆           ┆           ┆   ┆           ┆           ┆           ┆          │\n",
              "│ KYNG      ┆ YOUNGSTOW ┆ Ohio      ┆ OH        ┆ … ┆ Ruddy     ┆ J2140     ┆ 1         ┆ 16759    │\n",
              "│           ┆ N-WARREN  ┆           ┆           ┆   ┆ duck      ┆           ┆           ┆          │\n",
              "│           ┆ RGNL ARPT ┆           ┆           ┆   ┆           ┆           ┆           ┆          │\n",
              "│ KYNG      ┆ YOUNGSTOW ┆ Ohio      ┆ OH        ┆ … ┆ White-cro ┆ ZX309     ┆ 1         ┆ 17575    │\n",
              "│           ┆ N-WARREN  ┆           ┆           ┆   ┆ wned      ┆           ┆           ┆          │\n",
              "│           ┆ RGNL ARPT ┆           ┆           ┆   ┆ sparrow   ┆           ┆           ┆          │\n",
              "│ KYNG      ┆ YOUNGSTOW ┆ Ohio      ┆ OH        ┆ … ┆ Cedar     ┆ ZD102     ┆ 1         ┆ 17262    │\n",
              "│           ┆ N-WARREN  ┆           ┆           ┆   ┆ waxwing   ┆           ┆           ┆          │\n",
              "│           ┆ RGNL ARPT ┆           ┆           ┆   ┆           ┆           ┆           ┆          │\n",
              "│ KZPH      ┆ ZEPHYRHIL ┆ Florida   ┆ FL        ┆ … ┆ New World ┆ K1        ┆ 1         ┆ 203484   │\n",
              "│           ┆ LS        ┆           ┆           ┆   ┆ Vultures  ┆           ┆           ┆          │\n",
              "│           ┆ MUNICIPAL ┆           ┆           ┆   ┆           ┆           ┆           ┆          │\n",
              "│           ┆ ARPT      ┆           ┆           ┆   ┆           ┆           ┆           ┆          │\n",
              "└───────────┴───────────┴───────────┴───────────┴───┴───────────┴───────────┴───────────┴──────────┘"
            ],
            "text/html": [
              "<div><style>\n",
              ".dataframe > thead > tr,\n",
              ".dataframe > tbody > tr {\n",
              "  text-align: right;\n",
              "  white-space: pre-wrap;\n",
              "}\n",
              "</style>\n",
              "<small>shape: (28_298, 25)</small><table border=\"1\" class=\"dataframe\"><thead><tr><th>Airport: Code</th><th>Airport: Name</th><th>Origin State</th><th>Origin State Code</th><th>Country</th><th>Aircraft: Type</th><th>Aircraft: Number of engines</th><th>Collision Date and Time</th><th>When: Time of day</th><th>When: Phase of flight</th><th>Effect: Amount of damage (detailed)</th><th>Effect: Impact to flight</th><th>Effect: Indicated Damage</th><th>Cost: Aircraft time out of service (hours)</th><th>Cost: Total $</th><th>Days</th><th>Feet above ground</th><th>Miles from airport</th><th>Wildlife: Animal Category</th><th>Wildlife: Species Order</th><th>Wildlife: Species Group</th><th>Wildlife: Species</th><th>Wildlife: Species ID</th><th>Number of Strikes</th><th>Record ID</th></tr><tr><td>str</td><td>str</td><td>str</td><td>str</td><td>str</td><td>str</td><td>str</td><td>datetime[μs, UTC]</td><td>str</td><td>str</td><td>str</td><td>str</td><td>str</td><td>str</td><td>i64</td><td>str</td><td>str</td><td>str</td><td>str</td><td>str</td><td>str</td><td>str</td><td>str</td><td>i64</td><td>i64</td></tr></thead><tbody><tr><td>&quot;KAAF&quot;</td><td>&quot;APALACHICOLA REGIONAL ARPT&quot;</td><td>&quot;Florida&quot;</td><td>&quot;FL&quot;</td><td>&quot;United States&quot;</td><td>&quot;NA&quot;</td><td>&quot;NA&quot;</td><td>2012-09-20 23:30:00 UTC</td><td>&quot;NA&quot;</td><td>&quot;Take-off run&quot;</td><td>&quot;None&quot;</td><td>&quot;None&quot;</td><td>&quot;No damage&quot;</td><td>&quot;NA&quot;</td><td>0</td><td>&quot;NA&quot;</td><td>&quot;0&quot;</td><td>&quot;NA&quot;</td><td>&quot;Terrestrial Mammals&quot;</td><td>&quot;Canids&quot;</td><td>&quot;Wolves, Dogs, Foxes, Coyote&quot;</td><td>&quot;Domestic dog&quot;</td><td>&quot;1F12&quot;</td><td>1</td><td>17459</td></tr><tr><td>&quot;KAAF&quot;</td><td>&quot;APALACHICOLA REGIONAL ARPT&quot;</td><td>&quot;Florida&quot;</td><td>&quot;FL&quot;</td><td>&quot;United States&quot;</td><td>&quot;Airplane&quot;</td><td>&quot;1&quot;</td><td>2013-04-23 21:09:00 UTC</td><td>&quot;NA&quot;</td><td>&quot;Take-off run&quot;</td><td>&quot;None&quot;</td><td>&quot;None&quot;</td><td>&quot;No damage&quot;</td><td>&quot;NA&quot;</td><td>0</td><td>&quot;NA&quot;</td><td>&quot;NA&quot;</td><td>&quot;NA&quot;</td><td>&quot;Birds&quot;</td><td>&quot;Pelicans, Herons, Egrets, Bitt…</td><td>&quot;Herons, Egrets, Bitterns&quot;</td><td>&quot;Herons, egrets, bitterns&quot;</td><td>&quot;I1&quot;</td><td>1</td><td>17114</td></tr><tr><td>&quot;KABE&quot;</td><td>&quot;LEHIGH VALLEY INTL&quot;</td><td>&quot;Pennsylvania&quot;</td><td>&quot;PA&quot;</td><td>&quot;United States&quot;</td><td>&quot;Airplane&quot;</td><td>&quot;2&quot;</td><td>2009-04-23 13:22:00 UTC</td><td>&quot;Day&quot;</td><td>&quot;Take-off run&quot;</td><td>&quot;Medium&quot;</td><td>&quot;Aborted Take-off&quot;</td><td>&quot;Caused damage&quot;</td><td>&quot;720&quot;</td><td>171132</td><td>&quot;30&quot;</td><td>&quot;0&quot;</td><td>&quot;0&quot;</td><td>&quot;Birds&quot;</td><td>&quot;Caracaras, Falcons&quot;</td><td>&quot;Caracaras, Falcons&quot;</td><td>&quot;American kestrel&quot;</td><td>&quot;K5114&quot;</td><td>1</td><td>259361</td></tr><tr><td>&quot;KABE&quot;</td><td>&quot;LEHIGH VALLEY INTL&quot;</td><td>&quot;Pennsylvania&quot;</td><td>&quot;PA&quot;</td><td>&quot;United States&quot;</td><td>&quot;Airplane&quot;</td><td>&quot;2&quot;</td><td>2014-04-14 02:00:00 UTC</td><td>&quot;Night&quot;</td><td>&quot;Approach&quot;</td><td>&quot;None&quot;</td><td>&quot;None&quot;</td><td>&quot;No damage&quot;</td><td>&quot;15&quot;</td><td>600</td><td>&quot;1&quot;</td><td>&quot;NA&quot;</td><td>&quot;NA&quot;</td><td>&quot;Birds&quot;</td><td>&quot;Pigeons and Doves&quot;</td><td>&quot;Doves&quot;</td><td>&quot;Mourning dove&quot;</td><td>&quot;O2205&quot;</td><td>1</td><td>345167</td></tr><tr><td>&quot;KABE&quot;</td><td>&quot;LEHIGH VALLEY INTL&quot;</td><td>&quot;Pennsylvania&quot;</td><td>&quot;PA&quot;</td><td>&quot;United States&quot;</td><td>&quot;Airplane&quot;</td><td>&quot;2&quot;</td><td>2009-03-31 22:15:00 UTC</td><td>&quot;Day&quot;</td><td>&quot;Approach&quot;</td><td>&quot;Medium&quot;</td><td>&quot;None&quot;</td><td>&quot;Caused damage&quot;</td><td>&quot;12&quot;</td><td>188245</td><td>&quot;1&quot;</td><td>&quot;NA&quot;</td><td>&quot;0&quot;</td><td>&quot;Birds&quot;</td><td>&quot;Hawks, Kites, Eagles, Ospreys,…</td><td>&quot;Kites, Hawks, Eagles&quot;</td><td>&quot;Red-tailed hawk&quot;</td><td>&quot;K3302&quot;</td><td>1</td><td>262782</td></tr><tr><td>&hellip;</td><td>&hellip;</td><td>&hellip;</td><td>&hellip;</td><td>&hellip;</td><td>&hellip;</td><td>&hellip;</td><td>&hellip;</td><td>&hellip;</td><td>&hellip;</td><td>&hellip;</td><td>&hellip;</td><td>&hellip;</td><td>&hellip;</td><td>&hellip;</td><td>&hellip;</td><td>&hellip;</td><td>&hellip;</td><td>&hellip;</td><td>&hellip;</td><td>&hellip;</td><td>&hellip;</td><td>&hellip;</td><td>&hellip;</td><td>&hellip;</td></tr><tr><td>&quot;KYNG&quot;</td><td>&quot;YOUNGSTOWN-WARREN RGNL ARPT&quot;</td><td>&quot;Ohio&quot;</td><td>&quot;OH&quot;</td><td>&quot;United States&quot;</td><td>&quot;Airplane&quot;</td><td>&quot;4&quot;</td><td>2011-11-16 23:20:00 UTC</td><td>&quot;NA&quot;</td><td>&quot;Approach&quot;</td><td>&quot;None&quot;</td><td>&quot;None&quot;</td><td>&quot;No damage&quot;</td><td>&quot;NA&quot;</td><td>0</td><td>&quot;NA&quot;</td><td>&quot;100&quot;</td><td>&quot;NA&quot;</td><td>&quot;Birds&quot;</td><td>&quot;Perching Birds&quot;</td><td>&quot;Blackbirds&quot;</td><td>&quot;Rusty blackbird&quot;</td><td>&quot;ZT106&quot;</td><td>1</td><td>15818</td></tr><tr><td>&quot;KYNG&quot;</td><td>&quot;YOUNGSTOWN-WARREN RGNL ARPT&quot;</td><td>&quot;Ohio&quot;</td><td>&quot;OH&quot;</td><td>&quot;United States&quot;</td><td>&quot;Airplane&quot;</td><td>&quot;4&quot;</td><td>2012-11-02 01:20:00 UTC</td><td>&quot;NA&quot;</td><td>&quot;Approach&quot;</td><td>&quot;None&quot;</td><td>&quot;None&quot;</td><td>&quot;No damage&quot;</td><td>&quot;NA&quot;</td><td>0</td><td>&quot;NA&quot;</td><td>&quot;1900&quot;</td><td>&quot;NA&quot;</td><td>&quot;Birds&quot;</td><td>&quot;Ducks, Geese, Swans, Waterfowl&quot;</td><td>&quot;Ducks&quot;</td><td>&quot;Ruddy duck&quot;</td><td>&quot;J2140&quot;</td><td>1</td><td>16759</td></tr><tr><td>&quot;KYNG&quot;</td><td>&quot;YOUNGSTOWN-WARREN RGNL ARPT&quot;</td><td>&quot;Ohio&quot;</td><td>&quot;OH&quot;</td><td>&quot;United States&quot;</td><td>&quot;Airplane&quot;</td><td>&quot;4&quot;</td><td>2014-05-08 02:00:00 UTC</td><td>&quot;NA&quot;</td><td>&quot;Take-off run&quot;</td><td>&quot;None&quot;</td><td>&quot;None&quot;</td><td>&quot;No damage&quot;</td><td>&quot;NA&quot;</td><td>0</td><td>&quot;NA&quot;</td><td>&quot;NA&quot;</td><td>&quot;NA&quot;</td><td>&quot;Birds&quot;</td><td>&quot;Perching Birds&quot;</td><td>&quot;Sparrows&quot;</td><td>&quot;White-crowned sparrow&quot;</td><td>&quot;ZX309&quot;</td><td>1</td><td>17575</td></tr><tr><td>&quot;KYNG&quot;</td><td>&quot;YOUNGSTOWN-WARREN RGNL ARPT&quot;</td><td>&quot;Ohio&quot;</td><td>&quot;OH&quot;</td><td>&quot;United States&quot;</td><td>&quot;Airplane&quot;</td><td>&quot;4&quot;</td><td>2013-10-28 22:30:00 UTC</td><td>&quot;NA&quot;</td><td>&quot;Approach&quot;</td><td>&quot;None&quot;</td><td>&quot;None&quot;</td><td>&quot;No damage&quot;</td><td>&quot;NA&quot;</td><td>0</td><td>&quot;NA&quot;</td><td>&quot;NA&quot;</td><td>&quot;NA&quot;</td><td>&quot;Birds&quot;</td><td>&quot;Perching Birds&quot;</td><td>&quot;Waxwings&quot;</td><td>&quot;Cedar waxwing&quot;</td><td>&quot;ZD102&quot;</td><td>1</td><td>17262</td></tr><tr><td>&quot;KZPH&quot;</td><td>&quot;ZEPHYRHILLS MUNICIPAL ARPT&quot;</td><td>&quot;Florida&quot;</td><td>&quot;FL&quot;</td><td>&quot;United States&quot;</td><td>&quot;Airplane&quot;</td><td>&quot;3&quot;</td><td>2000-11-05 19:00:00 UTC</td><td>&quot;Day&quot;</td><td>&quot;Descent&quot;</td><td>&quot;Minor&quot;</td><td>&quot;None&quot;</td><td>&quot;Caused damage&quot;</td><td>&quot;NA&quot;</td><td>0</td><td>&quot;NA&quot;</td><td>&quot;4000&quot;</td><td>&quot;NA&quot;</td><td>&quot;Birds&quot;</td><td>&quot;Hawks, Kites, Eagles, Ospreys,…</td><td>&quot;Vultures&quot;</td><td>&quot;New World Vultures&quot;</td><td>&quot;K1&quot;</td><td>1</td><td>203484</td></tr></tbody></table></div>"
            ]
          },
          "metadata": {},
          "execution_count": 5
        }
      ],
      "source": [
        "# Import required packages\n",
        "import polars as pl\n",
        "\n",
        "strikes = pl.read_csv( \"https://raw.githubusercontent.com/philhetzel/opan5510-class10/refs/heads/main/data/faa_strikes.txt\", separator=\"\\t\")\n",
        "\n",
        "strikes = strikes.with_columns(pl.col(\"Collision Date and Time\").str.strptime(pl.Datetime))\n",
        "strikes"
      ]
    },
    {
      "cell_type": "markdown",
      "metadata": {
        "id": "70Ot5CtBirnH"
      },
      "source": [
        "# Question 1: Pivot US Economic Indicator Data"
      ]
    },
    {
      "cell_type": "markdown",
      "metadata": {
        "id": "FzkIHpKNirnI"
      },
      "source": [
        "## 1a. Pivot data\n",
        "\n",
        "Load the `economics_long.csv` dataset from the `data/` folder. You'll notice that in the `economics_long` dataset's `value` column, there are different types of measurements. Transform this dataset so that the unique values for the `variable` field become columns of their own.\n",
        "\n",
        "**Please write code below to pivot the data. The output should be a DataFrame. You must \"pivot\" the data to receive full credit on this question.**"
      ]
    },
    {
      "cell_type": "code",
      "execution_count": null,
      "metadata": {
        "id": "SORlRBuzirnI",
        "colab": {
          "base_uri": "https://localhost:8080/",
          "height": 765
        },
        "outputId": "c8540145-cf33-48c8-8c98-c0becee4abb3"
      },
      "outputs": [
        {
          "output_type": "stream",
          "name": "stdout",
          "text": [
            "shape: (574, 6)\n",
            "┌────────────┬─────────┬────────────┬─────────┬─────────┬──────────┐\n",
            "│ date       ┆ pce     ┆ pop        ┆ psavert ┆ uempmed ┆ unemploy │\n",
            "│ ---        ┆ ---     ┆ ---        ┆ ---     ┆ ---     ┆ ---      │\n",
            "│ str        ┆ f64     ┆ f64        ┆ f64     ┆ f64     ┆ f64      │\n",
            "╞════════════╪═════════╪════════════╪═════════╪═════════╪══════════╡\n",
            "│ 1967-07-01 ┆ 506.7   ┆ 198712.0   ┆ 12.6    ┆ 4.5     ┆ 2944.0   │\n",
            "│ 1967-08-01 ┆ 509.8   ┆ 198911.0   ┆ 12.6    ┆ 4.7     ┆ 2945.0   │\n",
            "│ 1967-09-01 ┆ 515.6   ┆ 199113.0   ┆ 11.9    ┆ 4.6     ┆ 2958.0   │\n",
            "│ 1967-10-01 ┆ 512.2   ┆ 199311.0   ┆ 12.9    ┆ 4.9     ┆ 3143.0   │\n",
            "│ 1967-11-01 ┆ 517.4   ┆ 199498.0   ┆ 12.8    ┆ 4.7     ┆ 3066.0   │\n",
            "│ …          ┆ …       ┆ …          ┆ …       ┆ …       ┆ …        │\n",
            "│ 2014-12-01 ┆ 12062.0 ┆ 319746.157 ┆ 7.6     ┆ 12.9    ┆ 8717.0   │\n",
            "│ 2015-01-01 ┆ 12046.0 ┆ 319928.646 ┆ 7.7     ┆ 13.2    ┆ 8903.0   │\n",
            "│ 2015-02-01 ┆ 12082.4 ┆ 320074.511 ┆ 7.9     ┆ 12.9    ┆ 8610.0   │\n",
            "│ 2015-03-01 ┆ 12158.3 ┆ 320230.786 ┆ 7.4     ┆ 12.0    ┆ 8504.0   │\n",
            "│ 2015-04-01 ┆ 12193.8 ┆ 320402.295 ┆ 7.6     ┆ 11.5    ┆ 8526.0   │\n",
            "└────────────┴─────────┴────────────┴─────────┴─────────┴──────────┘\n"
          ]
        },
        {
          "output_type": "execute_result",
          "data": {
            "text/plain": [
              "shape: (574, 6)\n",
              "┌────────────┬─────────┬────────────┬─────────┬─────────┬──────────┐\n",
              "│ date       ┆ pce     ┆ pop        ┆ psavert ┆ uempmed ┆ unemploy │\n",
              "│ ---        ┆ ---     ┆ ---        ┆ ---     ┆ ---     ┆ ---      │\n",
              "│ str        ┆ f64     ┆ f64        ┆ f64     ┆ f64     ┆ f64      │\n",
              "╞════════════╪═════════╪════════════╪═════════╪═════════╪══════════╡\n",
              "│ 1967-07-01 ┆ 506.7   ┆ 198712.0   ┆ 12.6    ┆ 4.5     ┆ 2944.0   │\n",
              "│ 1967-08-01 ┆ 509.8   ┆ 198911.0   ┆ 12.6    ┆ 4.7     ┆ 2945.0   │\n",
              "│ 1967-09-01 ┆ 515.6   ┆ 199113.0   ┆ 11.9    ┆ 4.6     ┆ 2958.0   │\n",
              "│ 1967-10-01 ┆ 512.2   ┆ 199311.0   ┆ 12.9    ┆ 4.9     ┆ 3143.0   │\n",
              "│ 1967-11-01 ┆ 517.4   ┆ 199498.0   ┆ 12.8    ┆ 4.7     ┆ 3066.0   │\n",
              "│ …          ┆ …       ┆ …          ┆ …       ┆ …       ┆ …        │\n",
              "│ 2014-12-01 ┆ 12062.0 ┆ 319746.157 ┆ 7.6     ┆ 12.9    ┆ 8717.0   │\n",
              "│ 2015-01-01 ┆ 12046.0 ┆ 319928.646 ┆ 7.7     ┆ 13.2    ┆ 8903.0   │\n",
              "│ 2015-02-01 ┆ 12082.4 ┆ 320074.511 ┆ 7.9     ┆ 12.9    ┆ 8610.0   │\n",
              "│ 2015-03-01 ┆ 12158.3 ┆ 320230.786 ┆ 7.4     ┆ 12.0    ┆ 8504.0   │\n",
              "│ 2015-04-01 ┆ 12193.8 ┆ 320402.295 ┆ 7.6     ┆ 11.5    ┆ 8526.0   │\n",
              "└────────────┴─────────┴────────────┴─────────┴─────────┴──────────┘"
            ],
            "text/html": [
              "<div><style>\n",
              ".dataframe > thead > tr,\n",
              ".dataframe > tbody > tr {\n",
              "  text-align: right;\n",
              "  white-space: pre-wrap;\n",
              "}\n",
              "</style>\n",
              "<small>shape: (574, 6)</small><table border=\"1\" class=\"dataframe\"><thead><tr><th>date</th><th>pce</th><th>pop</th><th>psavert</th><th>uempmed</th><th>unemploy</th></tr><tr><td>str</td><td>f64</td><td>f64</td><td>f64</td><td>f64</td><td>f64</td></tr></thead><tbody><tr><td>&quot;1967-07-01&quot;</td><td>506.7</td><td>198712.0</td><td>12.6</td><td>4.5</td><td>2944.0</td></tr><tr><td>&quot;1967-08-01&quot;</td><td>509.8</td><td>198911.0</td><td>12.6</td><td>4.7</td><td>2945.0</td></tr><tr><td>&quot;1967-09-01&quot;</td><td>515.6</td><td>199113.0</td><td>11.9</td><td>4.6</td><td>2958.0</td></tr><tr><td>&quot;1967-10-01&quot;</td><td>512.2</td><td>199311.0</td><td>12.9</td><td>4.9</td><td>3143.0</td></tr><tr><td>&quot;1967-11-01&quot;</td><td>517.4</td><td>199498.0</td><td>12.8</td><td>4.7</td><td>3066.0</td></tr><tr><td>&hellip;</td><td>&hellip;</td><td>&hellip;</td><td>&hellip;</td><td>&hellip;</td><td>&hellip;</td></tr><tr><td>&quot;2014-12-01&quot;</td><td>12062.0</td><td>319746.157</td><td>7.6</td><td>12.9</td><td>8717.0</td></tr><tr><td>&quot;2015-01-01&quot;</td><td>12046.0</td><td>319928.646</td><td>7.7</td><td>13.2</td><td>8903.0</td></tr><tr><td>&quot;2015-02-01&quot;</td><td>12082.4</td><td>320074.511</td><td>7.9</td><td>12.9</td><td>8610.0</td></tr><tr><td>&quot;2015-03-01&quot;</td><td>12158.3</td><td>320230.786</td><td>7.4</td><td>12.0</td><td>8504.0</td></tr><tr><td>&quot;2015-04-01&quot;</td><td>12193.8</td><td>320402.295</td><td>7.6</td><td>11.5</td><td>8526.0</td></tr></tbody></table></div>"
            ]
          },
          "metadata": {},
          "execution_count": 9
        }
      ],
      "source": [
        "import polars as pl\n",
        "\n",
        "# Load economics_long data\n",
        "economics_long = pl.read_csv(\n",
        "    \"https://raw.githubusercontent.com/philhetzel/opan5510-class12/refs/heads/main/data/economics_long.csv\"\n",
        ")\n",
        "\n",
        "# Pivot the data: each unique 'variable' becomes a column\n",
        "economics_wide = economics_long.pivot(\n",
        "    values=\"value\",      # column with the values\n",
        "    index=\"date\",        # rows indexed by 'date'\n",
        "    on=\"variable\"   # unique values in 'variable' become columns\n",
        ")\n",
        "\n",
        "# Display the pivoted dataframe\n",
        "print(economics_wide)\n",
        "\n",
        "# Display the pivoted dataframe\n",
        "economics_wide"
      ]
    },
    {
      "cell_type": "markdown",
      "metadata": {
        "id": "0aKbVK4kirnI"
      },
      "source": [
        "## 1b. Calculate median unemployment for 2010-01-01 and beyond\n",
        "\n",
        "Next, compute the median unemployment metric (as defined by `unemploy`) for 2010-01-01 and beyond.\n",
        "\n",
        "**Please write code below. The output should show the median value. You must use the dataframe created in 1a.**"
      ]
    },
    {
      "cell_type": "code",
      "execution_count": null,
      "metadata": {
        "id": "cVrLCD1GirnI",
        "colab": {
          "base_uri": "https://localhost:8080/"
        },
        "outputId": "6b715b83-ed24-4432-b900-f00781243e74"
      },
      "outputs": [
        {
          "output_type": "stream",
          "name": "stdout",
          "text": [
            "The median unemployment for 2010-01-01 and beyond is: 12471.0\n"
          ]
        }
      ],
      "source": [
        "# Filter for dates >= '2010-01-01' and calculate median of 'unemploy'\n",
        "median_unemploy = economics_wide.filter(\n",
        "    pl.col(\"date\") >= \"2010-01-01\"\n",
        ").select(\n",
        "    pl.col(\"unemploy\").median()\n",
        ").item()  # .item() extracts the scalar value from the single-row DataFrame\n",
        "\n",
        "print(f\"The median unemployment for 2010-01-01 and beyond is: {median_unemploy}\")\n"
      ]
    },
    {
      "cell_type": "markdown",
      "metadata": {
        "id": "exDU-rWgirnI"
      },
      "source": [
        "### Answer: The median unemployment for 2010-01-01 and beyond is: __________"
      ]
    },
    {
      "cell_type": "markdown",
      "metadata": {
        "id": "lnuPCHzEirnJ"
      },
      "source": [
        "# Question 2: Air Passenger data"
      ]
    },
    {
      "cell_type": "markdown",
      "metadata": {
        "id": "Lu9_3ovZirnJ"
      },
      "source": [
        "## 2a. Unpivot data\n",
        "\n",
        "The `AirPassengers` dataset is wide, which makes it difficult to aggregate. Transform the `AirPassengers` dataset from wide to long. The resulting dataset should have three columns: one column representing year, one column representing month, and one column representing the number of air passengers.\n",
        "\n",
        "**Please write code below to unpivot the data. The output should be a DataFrame. You must \"unpivot\" the data to receive full credit on this question.**"
      ]
    },
    {
      "cell_type": "code",
      "execution_count": null,
      "metadata": {
        "id": "AKrtGk6eirnJ",
        "colab": {
          "base_uri": "https://localhost:8080/"
        },
        "outputId": "fa53c299-3a1d-4093-c84a-6618acd9d18a"
      },
      "outputs": [
        {
          "output_type": "stream",
          "name": "stdout",
          "text": [
            "shape: (144, 3)\n",
            "┌──────┬───────┬────────────┐\n",
            "│ Year ┆ Month ┆ Passengers │\n",
            "│ ---  ┆ ---   ┆ ---        │\n",
            "│ i64  ┆ str   ┆ i64        │\n",
            "╞══════╪═══════╪════════════╡\n",
            "│ 1949 ┆ Jan   ┆ 112        │\n",
            "│ 1950 ┆ Jan   ┆ 115        │\n",
            "│ 1951 ┆ Jan   ┆ 145        │\n",
            "│ 1952 ┆ Jan   ┆ 171        │\n",
            "│ 1953 ┆ Jan   ┆ 196        │\n",
            "│ …    ┆ …     ┆ …          │\n",
            "│ 1956 ┆ Dec   ┆ 306        │\n",
            "│ 1957 ┆ Dec   ┆ 336        │\n",
            "│ 1958 ┆ Dec   ┆ 337        │\n",
            "│ 1959 ┆ Dec   ┆ 405        │\n",
            "│ 1960 ┆ Dec   ┆ 432        │\n",
            "└──────┴───────┴────────────┘\n"
          ]
        },
        {
          "output_type": "stream",
          "name": "stderr",
          "text": [
            "/tmp/ipython-input-401051524.py:11: DeprecationWarning: `DataFrame.melt` is deprecated. Use `unpivot` instead, with `index` instead of `id_vars` and `on` instead of `value_vars`\n",
            "  air_passengers_long = air_passengers.melt(\n"
          ]
        }
      ],
      "source": [
        "# Load AirPassengers data\n",
        "air_passengers = pl.read_csv(\n",
        "    \"https://raw.githubusercontent.com/philhetzel/opan5510-class12/refs/heads/main/data/AirPassengers.txt\",\n",
        "    separator=\"\\t\"\n",
        ")\n",
        "\n",
        "# Identify month columns (all except 'Year')\n",
        "month_columns = [col for col in air_passengers.columns if col != \"Year\"]\n",
        "\n",
        "# Unpivot the data from wide to long\n",
        "air_passengers_long = air_passengers.melt(\n",
        "    id_vars=\"Year\",          # columns to keep\n",
        "    value_vars=month_columns, # columns to unpivot\n",
        "    variable_name=\"Month\",    # new column for month names\n",
        "    value_name=\"Passengers\"   # new column for passenger counts\n",
        ")\n",
        "\n",
        "# Display the unpivoted dataframe\n",
        "print(air_passengers_long)"
      ]
    },
    {
      "cell_type": "markdown",
      "metadata": {
        "id": "fZpEEzvairnJ"
      },
      "source": [
        "## 2b. Find the standard deviation between 1955 and 1960\n",
        "\n",
        "Next, compute the standard deviation of passengers between (and including) the years 1955 and 1960.\n",
        "\n",
        "**Please write code below. The output should show the standard deviation. You must use the dataframe created in 2a.**"
      ]
    },
    {
      "cell_type": "code",
      "execution_count": null,
      "metadata": {
        "id": "hTQgkkD3irnJ",
        "colab": {
          "base_uri": "https://localhost:8080/"
        },
        "outputId": "bdd8af27-0377-482e-f305-920d51e9721b"
      },
      "outputs": [
        {
          "output_type": "stream",
          "name": "stdout",
          "text": [
            "The standard deviation of airline passengers between 1955 and 1960 is: 86.44\n"
          ]
        }
      ],
      "source": [
        "# Filter for years between 1955 and 1960 (inclusive) and calculate standard deviation\n",
        "std_passengers = air_passengers_long.filter(\n",
        "    (pl.col(\"Year\") >= 1955) & (pl.col(\"Year\") <= 1960)\n",
        ").select(\n",
        "    pl.col(\"Passengers\").std()\n",
        ").item()  # extract the scalar value\n",
        "\n",
        "print(f\"The standard deviation of airline passengers between 1955 and 1960 is: {std_passengers:.2f}\")\n"
      ]
    },
    {
      "cell_type": "markdown",
      "metadata": {
        "id": "kkUPMnV9irnJ"
      },
      "source": [
        "### The standard deviation of airline passengers between (and including) the years 1955 and 1960 is: __________"
      ]
    },
    {
      "cell_type": "markdown",
      "metadata": {
        "id": "iwAhd31eirnJ"
      },
      "source": [
        "# Question 3: WHO tuberculosis case data"
      ]
    },
    {
      "cell_type": "markdown",
      "metadata": {
        "id": "fUAv27d8irnJ"
      },
      "source": [
        "## 3a. Pivot data\n",
        "\n",
        "Load the `table2.csv` dataset from the `data/` folder. This contains data for country populations and tuberculosis case metrics. You'll notice that the metrics for `cases` and `population` are in the same column (`count`). Pivot the data so that the metrics for `cases` and `population` are in their own columns.\n",
        "\n",
        "**Please write code below to pivot the data. The output should be a DataFrame. You must \"pivot\" the data to receive full credit on this question.**"
      ]
    },
    {
      "cell_type": "code",
      "execution_count": null,
      "metadata": {
        "id": "YBhffil1irnJ",
        "colab": {
          "base_uri": "https://localhost:8080/"
        },
        "outputId": "4f393f26-1451-4b31-fb29-364fa3b742af"
      },
      "outputs": [
        {
          "output_type": "stream",
          "name": "stdout",
          "text": [
            "shape: (6, 4)\n",
            "┌─────────────┬──────┬────────┬────────────┐\n",
            "│ country     ┆ year ┆ cases  ┆ population │\n",
            "│ ---         ┆ ---  ┆ ---    ┆ ---        │\n",
            "│ str         ┆ i64  ┆ i64    ┆ i64        │\n",
            "╞═════════════╪══════╪════════╪════════════╡\n",
            "│ Afghanistan ┆ 1999 ┆ 745    ┆ 19987071   │\n",
            "│ Afghanistan ┆ 2000 ┆ 2666   ┆ 20595360   │\n",
            "│ Brazil      ┆ 1999 ┆ 37737  ┆ 172006362  │\n",
            "│ Brazil      ┆ 2000 ┆ 80488  ┆ 174504898  │\n",
            "│ China       ┆ 1999 ┆ 212258 ┆ 1272915272 │\n",
            "│ China       ┆ 2000 ┆ 213766 ┆ 1280428583 │\n",
            "└─────────────┴──────┴────────┴────────────┘\n"
          ]
        },
        {
          "output_type": "stream",
          "name": "stderr",
          "text": [
            "/tmp/ipython-input-3652837378.py:9: DeprecationWarning: The argument `columns` for `DataFrame.pivot` is deprecated. It has been renamed to `on`.\n",
            "  table2_wide = table2.pivot(\n"
          ]
        }
      ],
      "source": [
        "import polars as pl\n",
        "\n",
        "# Load table2 data\n",
        "table2 = pl.read_csv(\n",
        "    \"https://raw.githubusercontent.com/philhetzel/opan5510-class12/refs/heads/main/data/table2.csv\"\n",
        ")\n",
        "\n",
        "# Pivot the data: make 'cases' and 'population' separate columns\n",
        "table2_wide = table2.pivot(\n",
        "    values=\"count\",   # column with the numeric values\n",
        "    index=[\"country\", \"year\"],  # keep these columns as rows\n",
        "    columns=\"type\"    # unique values in 'type' become new columns\n",
        ")\n",
        "\n",
        "# Display the pivoted dataframe\n",
        "print(table2_wide)\n"
      ]
    },
    {
      "cell_type": "markdown",
      "metadata": {
        "id": "z_Lpg4OvirnJ"
      },
      "source": [
        "## 3b. Calculate highest cases/population ratio for 1999\n",
        "\n",
        "Now that you have `cases` and `population` in their own columns, you can perform analysis. Create a new column in this dataset called `ratio` that divides `cases` by `population`. Next, filter the data to only include rows from the `year` of 1999. What is the country with the highest `cases`/`population` ratio?\n",
        "\n",
        "**Please write code below. You must use the dataframe created in 3a.**"
      ]
    },
    {
      "cell_type": "code",
      "execution_count": null,
      "metadata": {
        "id": "7eX4xqVZirnJ",
        "colab": {
          "base_uri": "https://localhost:8080/"
        },
        "outputId": "d00228c4-39a8-4930-eed9-f998d1550a6a"
      },
      "outputs": [
        {
          "output_type": "stream",
          "name": "stdout",
          "text": [
            "Data for 1999 with ratios:\n",
            "shape: (3, 5)\n",
            "┌─────────────┬──────┬────────┬────────────┬──────────┐\n",
            "│ country     ┆ year ┆ cases  ┆ population ┆ ratio    │\n",
            "│ ---         ┆ ---  ┆ ---    ┆ ---        ┆ ---      │\n",
            "│ str         ┆ i64  ┆ i64    ┆ i64        ┆ f64      │\n",
            "╞═════════════╪══════╪════════╪════════════╪══════════╡\n",
            "│ Afghanistan ┆ 1999 ┆ 745    ┆ 19987071   ┆ 0.000037 │\n",
            "│ Brazil      ┆ 1999 ┆ 37737  ┆ 172006362  ┆ 0.000219 │\n",
            "│ China       ┆ 1999 ┆ 212258 ┆ 1272915272 ┆ 0.000167 │\n",
            "└─────────────┴──────┴────────┴────────────┴──────────┘\n",
            "\n",
            "The country with the highest cases/population ratio in 1999 is: Brazil\n"
          ]
        }
      ],
      "source": [
        "# 1. Add a 'ratio' column\n",
        "table2_with_ratio = table2_wide.with_columns(\n",
        "    (pl.col(\"cases\") / pl.col(\"population\")).alias(\"ratio\")\n",
        ")\n",
        "\n",
        "# 2. Filter for the year 1999\n",
        "year_1999 = table2_with_ratio.filter(pl.col(\"year\") == 1999)\n",
        "\n",
        "# 3. Find the country with the highest ratio\n",
        "highest_ratio_country = year_1999.sort(\"ratio\", descending=True).select(\"country\").head(1).item()\n",
        "\n",
        "print(\"Data for 1999 with ratios:\")\n",
        "print(year_1999)\n",
        "print(f\"\\nThe country with the highest cases/population ratio in 1999 is: {highest_ratio_country}\")"
      ]
    },
    {
      "cell_type": "markdown",
      "metadata": {
        "id": "nO7NjyhxirnK"
      },
      "source": [
        "### Answer: The country with the highest cases/population ratio in 1999 is: Myanmar"
      ]
    },
    {
      "cell_type": "markdown",
      "metadata": {
        "id": "T5Ke1JFtirnK"
      },
      "source": [
        "## Submission Instructions\n",
        "\n",
        "1. Complete all code cells above\n",
        "2. Run all cells to ensure they execute without errors\n",
        "3. Fill in the answer blanks with your computed values\n",
        "4. Save and submit your completed notebook"
      ]
    }
  ],
  "metadata": {
    "kernelspec": {
      "display_name": "Python 3",
      "language": "python",
      "name": "python3"
    },
    "language_info": {
      "codemirror_mode": {
        "name": "ipython",
        "version": 3
      },
      "file_extension": ".py",
      "mimetype": "text/x-python",
      "name": "python",
      "nbconvert_exporter": "python",
      "pygments_lexer": "ipython3",
      "version": "3.9.0"
    },
    "colab": {
      "provenance": []
    }
  },
  "nbformat": 4,
  "nbformat_minor": 0
}